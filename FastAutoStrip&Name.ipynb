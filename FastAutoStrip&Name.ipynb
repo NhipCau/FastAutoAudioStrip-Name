{
  "cells": [
    {
      "cell_type": "markdown",
      "metadata": {
        "id": "view-in-github",
        "colab_type": "text"
      },
      "source": [
        "<a href=\"https://colab.research.google.com/github/NhipCau/FastAutoAudioStrip-Name/blob/main/FastAutoStrip%26Name.ipynb\" target=\"_parent\"><img src=\"https://colab.research.google.com/assets/colab-badge.svg\" alt=\"Open In Colab\"/></a>"
      ]
    },
    {
      "cell_type": "code",
      "execution_count": null,
      "metadata": {
        "colab": {
          "base_uri": "https://localhost:8080/"
        },
        "id": "dOR77T50fdW9",
        "outputId": "8a7e2ba4-77cd-45ed-ee38-d25fb0db0660"
      },
      "outputs": [
        {
          "name": "stdout",
          "output_type": "stream",
          "text": [
            "Drive already mounted at /content/drive; to attempt to forcibly remount, call drive.mount(\"/content/drive\", force_remount=True).\n"
          ]
        }
      ],
      "source": [
        "#GoogleDriveをマウント\n",
        "from google.colab import drive\n",
        "drive.mount('/content/drive')"
      ]
    },
    {
      "cell_type": "code",
      "execution_count": null,
      "metadata": {
        "colab": {
          "base_uri": "https://localhost:8080/"
        },
        "id": "cjV-ZWRJfbrA",
        "outputId": "ea55a113-99d0-4393-fe4c-875f1dfb1f4a",
        "collapsed": true
      },
      "outputs": [
        {
          "name": "stdout",
          "output_type": "stream",
          "text": [
            "Collecting pydub\n",
            "  Downloading pydub-0.25.1-py2.py3-none-any.whl.metadata (1.4 kB)\n",
            "Downloading pydub-0.25.1-py2.py3-none-any.whl (32 kB)\n",
            "Installing collected packages: pydub\n",
            "Successfully installed pydub-0.25.1\n",
            "Collecting openpyxl\n",
            "  Downloading openpyxl-3.1.5-py2.py3-none-any.whl.metadata (2.5 kB)\n",
            "Collecting et-xmlfile (from openpyxl)\n",
            "  Downloading et_xmlfile-2.0.0-py3-none-any.whl.metadata (2.7 kB)\n",
            "Downloading openpyxl-3.1.5-py2.py3-none-any.whl (250 kB)\n",
            "\u001b[2K   \u001b[90m━━━━━━━━━━━━━━━━━━━━━━━━━━━━━━━━━━━━━━━━\u001b[0m \u001b[32m250.9/250.9 kB\u001b[0m \u001b[31m4.6 MB/s\u001b[0m eta \u001b[36m0:00:00\u001b[0m\n",
            "\u001b[?25hDownloading et_xmlfile-2.0.0-py3-none-any.whl (18 kB)\n",
            "Installing collected packages: et-xmlfile, openpyxl\n",
            "Successfully installed et-xmlfile-2.0.0 openpyxl-3.1.5\n",
            "Collecting webrtcvad\n",
            "  Downloading webrtcvad-2.0.10.tar.gz (66 kB)\n",
            "\u001b[2K     \u001b[90m━━━━━━━━━━━━━━━━━━━━━━━━━━━━━━━━━━━━━━━━\u001b[0m \u001b[32m66.2/66.2 kB\u001b[0m \u001b[31m2.0 MB/s\u001b[0m eta \u001b[36m0:00:00\u001b[0m\n",
            "\u001b[?25h  Installing build dependencies ... \u001b[?25l\u001b[?25hdone\n",
            "  Getting requirements to build wheel ... \u001b[?25l\u001b[?25hdone\n",
            "  Preparing metadata (pyproject.toml) ... \u001b[?25l\u001b[?25hdone\n",
            "Building wheels for collected packages: webrtcvad\n",
            "  Building wheel for webrtcvad (pyproject.toml) ... \u001b[?25l\u001b[?25hdone\n",
            "  Created wheel for webrtcvad: filename=webrtcvad-2.0.10-cp311-cp311-linux_x86_64.whl size=73583 sha256=110503ae09cd2422f4949428b2be737b16b7b5b8184f4f30bdd3017edf70b4f1\n",
            "  Stored in directory: /root/.cache/pip/wheels/94/65/3f/292d0b656be33d1c801831201c74b5f68f41a2ae465ff2ee2f\n",
            "Successfully built webrtcvad\n",
            "Installing collected packages: webrtcvad\n",
            "Successfully installed webrtcvad-2.0.10\n"
          ]
        }
      ],
      "source": [
        "#ライブラリをインストール\n",
        "!pip install pydub\n",
        "!pip install openpyxl\n",
        "!pip install webrtcvad"
      ]
    },
    {
      "cell_type": "code",
      "execution_count": null,
      "metadata": {
        "id": "5Sx3cK5aENZ-"
      },
      "outputs": [],
      "source": [
        "import webrtcvad\n",
        "import openpyxl\n",
        "import os\n",
        "import soundfile as sf\n",
        "import numpy as np\n",
        "\n",
        "# ===== 設定 =====\n",
        "input_audio_path = \"/content/drive/MyDrive/Colab Notebooks/BtlMsg_sample.wav\"\n",
        "excel_path = \"/content/drive/MyDrive/Colab Notebooks/BtlMsg_Rename_test.xlsx\"\n",
        "output_dir = \"/content/drive/MyDrive/Colab Notebooks/output_wavs\"\n",
        "\n",
        "target_sample_rate = 48000\n",
        "vad_aggressiveness = 2\n",
        "silence_thresh = -80  # dBFS\n",
        "min_silence_len_ms = 12000\n",
        "pre_buffer_sec = 1\n",
        "post_buffer_sec = 1\n",
        "bit_depth = 24  # 16, 24, or 32\n",
        "\n",
        "filename_column_index = 3\n",
        "filename_start_row = 1\n",
        "\n",
        "# ===== 出力フォルダ作成 =====\n",
        "os.makedirs(output_dir, exist_ok=True)\n",
        "\n",
        "# ===== Excelからファイル名を取得 =====\n",
        "wb = openpyxl.load_workbook(excel_path)\n",
        "sheet = wb.active\n",
        "filenames = [\n",
        "    row[filename_column_index]\n",
        "    for row in sheet.iter_rows(min_row=filename_start_row, values_only=True)\n",
        "    if row[filename_column_index]\n",
        "]\n",
        "\n",
        "# ===== 音声読み込み（float32 or int24） =====\n",
        "audio, sr = sf.read(input_audio_path)\n",
        "if sr != target_sample_rate:\n",
        "    raise ValueError(f\"Sample rate mismatch: expected {target_sample_rate}, got {sr}\")\n",
        "\n",
        "# ===== webrtcvad用に16bit PCMへ一時変換 =====\n",
        "audio_int16 = (audio * 32767).astype(np.int16)\n",
        "raw_audio = audio_int16.tobytes()\n",
        "\n",
        "frame_duration = 30  # ms\n",
        "frame_size = int(target_sample_rate * frame_duration / 1000) * 2  # 2 bytes/sample\n",
        "\n",
        "frames = [\n",
        "    (i * frame_duration, raw_audio[i * frame_size:(i + 1) * frame_size])\n",
        "    for i in range(len(raw_audio) // frame_size)\n",
        "]\n",
        "\n",
        "# ===== VADで音声区間を検出 =====\n",
        "vad = webrtcvad.Vad(vad_aggressiveness)\n",
        "speech_segments = []\n",
        "is_speech = False\n",
        "segment_start = 0\n",
        "\n",
        "for i, (timestamp, frame) in enumerate(frames):\n",
        "    if len(frame) < frame_size:\n",
        "        break\n",
        "    if vad.is_speech(frame, target_sample_rate):\n",
        "        if not is_speech:\n",
        "            segment_start = timestamp\n",
        "            is_speech = True\n",
        "    else:\n",
        "        if is_speech:\n",
        "            segment_end = timestamp\n",
        "            speech_segments.append((segment_start, segment_end))\n",
        "            is_speech = False\n",
        "\n",
        "if is_speech:\n",
        "    speech_segments.append((segment_start, timestamp + frame_duration))\n",
        "\n",
        "# ===== dBFSでフィルタリング =====\n",
        "def rms_dbfs(segment):\n",
        "    rms = np.sqrt(np.mean(segment**2))\n",
        "    return 20 * np.log10(rms + 1e-10)\n",
        "\n",
        "filtered_segments = []\n",
        "for start_ms, end_ms in speech_segments:\n",
        "    start = int(start_ms * target_sample_rate // 1000)\n",
        "    end = int(end_ms * target_sample_rate // 1000)\n",
        "    segment = audio[start:end]\n",
        "    if rms_dbfs(segment) >= silence_thresh:\n",
        "        filtered_segments.append((start_ms, end_ms))\n",
        "\n",
        "# ===== 最小サイレンス長でマージ =====\n",
        "merged_segments = []\n",
        "if filtered_segments:\n",
        "    current_start, current_end = filtered_segments[0]\n",
        "    for start_ms, end_ms in filtered_segments[1:]:\n",
        "        if start_ms - current_end < min_silence_len_ms:\n",
        "            current_end = end_ms\n",
        "        else:\n",
        "            merged_segments.append((current_start, current_end))\n",
        "            current_start, current_end = start_ms, end_ms\n",
        "    merged_segments.append((current_start, current_end))\n",
        "\n",
        "# ===== バッファを加えて保存 =====\n",
        "pre_buffer = int(pre_buffer_sec * 1000)\n",
        "post_buffer = int(post_buffer_sec * 1000)\n",
        "\n",
        "for i, (start_ms, end_ms) in enumerate(merged_segments):\n",
        "    if i < len(filenames):\n",
        "        start = max(0, int((start_ms - pre_buffer) * target_sample_rate // 1000))\n",
        "        end = min(len(audio), int((end_ms + post_buffer) * target_sample_rate // 1000))\n",
        "        chunk = audio[start:end]\n",
        "\n",
        "        # ビット深度に応じた subtype を選択\n",
        "        if bit_depth == 16:\n",
        "            subtype = 'PCM_16'\n",
        "        elif bit_depth == 24:\n",
        "            subtype = 'PCM_24'\n",
        "        elif bit_depth == 32:\n",
        "            subtype = 'PCM_32'\n",
        "        else:\n",
        "            raise ValueError(\"Invalid bit depth. Choose 16, 24, or 32.\")\n",
        "\n",
        "        output_path = os.path.join(output_dir, f\"{filenames[i]}.wav\")\n",
        "        sf.write(output_path, chunk, samplerate=target_sample_rate, subtype=subtype)\n",
        "        print(f\"保存しました: {output_path}\")\n",
        "    else:\n",
        "        print(f\"ファイル名が不足しています（チャンク{i+1}）\")\n",
        "\n",
        "# ===== バッファを加えて保存 =====\n",
        "# ...（保存処理のループ）\n",
        "\n",
        "処理ファイル数 = len(merged_segments)\n",
        "保存ファイル数 = min(len(merged_segments), len(filenames))\n",
        "\n",
        "print(f\"✅ 処理が完了しました。{処理ファイル数} 件を処理し、{保存ファイル数} 件を保存しました。\")\n"
      ]
    },
    {
      "cell_type": "code",
      "execution_count": 2,
      "metadata": {
        "id": "Q12E4I8pgqQg",
        "colab": {
          "base_uri": "https://localhost:8080/"
        },
        "outputId": "0ff737d0-ee7a-4fbd-eef5-9521fa3db29a"
      },
      "outputs": [
        {
          "output_type": "stream",
          "name": "stdout",
          "text": [
            "935\n"
          ]
        }
      ],
      "source": [
        "#Pythonで特定フォルダのファイル数をカウントして表示\n",
        "\n",
        "import os\n",
        "\n",
        "# ファイル数を調べたいフォルダのパス\n",
        "path = \"/content/drive/MyDrive/Colab Notebooks/output_wavs\"\n",
        "\n",
        "# フォルダ内の全ファイル名をリスト化\n",
        "files = os.listdir(path)\n",
        "\n",
        "# リストの長さ（ファイル数）を取得\n",
        "count = len(files)\n",
        "\n",
        "# ファイル数を確認\n",
        "print(count)\n"
      ]
    },
    {
      "cell_type": "code",
      "source": [
        "# Pythonでサブフォルダのファイル数を確認\n",
        "# サブフォルダが存在しない場合はエラー\n",
        "# 以下のようなツリー構造の全ファイル数をカウントして表示\n",
        "#images\n",
        "#   ├─ahukono\n",
        "#   ├─ahurikawasimimizuku\n",
        "#   ├─...\n",
        "#   ├─uraru\n",
        "\n",
        "import os\n",
        "\n",
        "path = \"/content/drive/MyDrive/Colab Notebooks/output_wavs\"\n",
        "\n",
        "total = 0\n",
        "for dir_path in os.listdir(path):\n",
        "    target_dir = path + \"/\" + dir_path\n",
        "    files = os.listdir(target_dir)\n",
        "    count = len(files)\n",
        "    total = total + count\n",
        "    print(dir_path, \":\", count)\n",
        "print(\"file total:\", total)\n"
      ],
      "metadata": {
        "id": "btaGATeJU4ZC"
      },
      "execution_count": null,
      "outputs": []
    },
    {
      "cell_type": "code",
      "source": [],
      "metadata": {
        "id": "-WrIaHHGVDFp"
      },
      "execution_count": null,
      "outputs": []
    }
  ],
  "metadata": {
    "colab": {
      "provenance": [],
      "mount_file_id": "1tiChiMzBcXFSmjfsLbUs_BoUk04oI8vf",
      "authorship_tag": "ABX9TyP9elRE2YiTAUxKAHQpZydY",
      "include_colab_link": true
    },
    "kernelspec": {
      "display_name": "Python 3",
      "name": "python3"
    },
    "language_info": {
      "name": "python"
    }
  },
  "nbformat": 4,
  "nbformat_minor": 0
}